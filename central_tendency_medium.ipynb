{
 "cells": [
  {
   "cell_type": "markdown",
   "metadata": {},
   "source": [
    "# Using Python 3.7.4 to calculate Central Tendency"
   ]
  },
  {
   "cell_type": "markdown",
   "metadata": {},
   "source": [
    "# Preparatory Steps"
   ]
  },
  {
   "cell_type": "code",
   "execution_count": 41,
   "metadata": {},
   "outputs": [],
   "source": [
    "# Import some required libraries\n",
    "# All work done below has been done using Python 3.7.4\n",
    "import numpy as np\n",
    "from scipy import stats\n",
    "import statistics\n",
    "import pandas as pd"
   ]
  },
  {
   "cell_type": "markdown",
   "metadata": {},
   "source": [
    "# Calculating Arithmetic Mean"
   ]
  },
  {
   "cell_type": "code",
   "execution_count": 1,
   "metadata": {},
   "outputs": [
    {
     "name": "stdout",
     "output_type": "stream",
     "text": [
      "Arithmetic mean of height of 10 students in the sample data is: 121.24\n",
      "Arithmetic mean (using np.mean) of height of 10 students in the sample data is: 121.24\n"
     ]
    }
   ],
   "source": [
    "# Define your data for which the mean needs to be calculated\n",
    "# Weight in lbs of 10 people\n",
    "sample_data = np.array([115.3, 195.5, 120.5, 110.2, 90.4, 105.6, 110.9, 116.3, 122.3, 125.4])\n",
    "\n",
    "## Let us calculate mean first\n",
    "\n",
    "# Steps for Arithmetic mean:\n",
    "\n",
    "calc_series_sum = sum(sample_data) #Sum of all the observations in the series\n",
    "calc_series_n   = len(sample_data)      #Count of observations in the series\n",
    "calc_arith_mean = round(calc_series_sum / calc_series_n,2) #Calculate mean = sum of all observations / count of observations\n",
    "print(\"Arithmetic mean of height of \"+str(calc_series_n)+\" students in the sample data is: \"+str(calc_arith_mean)) \n",
    "# Display the mean rounded to 2 decimal places\n",
    "\n",
    "# What if we took a shorter route and calculated using an already available package?\n",
    "\n",
    "calc_arith_mean_pkg = round(np.mean(sample_data),2) #Making use of \"mean\" function within numpy\n",
    "print(\"Arithmetic mean (using np.mean) of height of \"+str(calc_series_n)+\" students in the sample data is: \"\n",
    "      +str(calc_arith_mean_pkg)) \n",
    "# Display the mean using np.mean rounded to 2 decimal places\n",
    "\n",
    "#Do you see if the Arithmetic Mean is affected by outliers (like 195.5lbs) below?"
   ]
  },
  {
   "cell_type": "markdown",
   "metadata": {},
   "source": [
    "# Weighted Arithmetic Mean"
   ]
  },
  {
   "cell_type": "code",
   "execution_count": 2,
   "metadata": {},
   "outputs": [
    {
     "name": "stdout",
     "output_type": "stream",
     "text": [
      "Weighted Arithmetic mean of series x is: 114.62\n"
     ]
    }
   ],
   "source": [
    "# Calculate Weighted Arithmetic mean\n",
    "\n",
    "var_x = np.array([115.3, 195.5, 120.5, 110.2, 90.4, 105.6, 110.9, 116.3, 122.3, 125.4]) \n",
    "# Data series (same as weight of 10 people above)\n",
    "freq_x = np.array([10,2,14,20,10,15,30,16,18,15]) # Frequency of each data point of series x\n",
    "\n",
    "sumproduct = sum(var_x * freq_x) # Weighted sum of all observations\n",
    "\n",
    "Weighted_AM = round(sumproduct / sum(freq_x),2) # Calculate weighted AM, rounded to 2 decimal places\n",
    "print(\"Weighted Arithmetic mean of series x is: \"+str(Weighted_AM))"
   ]
  },
  {
   "cell_type": "markdown",
   "metadata": {},
   "source": [
    "# Calculating Geometric Mean"
   ]
  },
  {
   "cell_type": "code",
   "execution_count": 3,
   "metadata": {},
   "outputs": [
    {
     "name": "stdout",
     "output_type": "stream",
     "text": [
      "Geometric mean of series x is: 23.28\n",
      "Geometric mean of series x using logarithms is: 23.28\n"
     ]
    }
   ],
   "source": [
    "# Calculate Geometric mean\n",
    "\n",
    "var_geom_x = np.array([10,150,16,25,20,24,20,15])\n",
    "\n",
    "product_x = (10 * 150 * 16 * 25 * 20 * 24 * 20 * 15) #Product of all observations\n",
    "N_x = len(var_geom_x) #Count of observations\n",
    "\n",
    "geomteric_mean_x = round(product_x ** (1/N_x),2) #Calculate geometric mean rounded to 2 decimal places\n",
    "print(\"Geometric mean of series x is: \"+str(geomteric_mean_x))\n",
    "\n",
    "## The above way of calculating product may be cumbersome. Can we use logarithms?\n",
    "\n",
    "product_log_x = sum(np.log(var_geom_x)) #Apply log on all observations and sum, equivalent to log of product of all observations\n",
    "geomteric_mean_log_x = round(np.exp((1/N_x)*product_log_x),2) #Exponential to remove the logs\n",
    "print(\"Geometric mean of series x using logarithms is: \"+str(geomteric_mean_log_x))"
   ]
  },
  {
   "cell_type": "markdown",
   "metadata": {},
   "source": [
    "# Calculating Weighted Geometric Mean"
   ]
  },
  {
   "cell_type": "code",
   "execution_count": 4,
   "metadata": {},
   "outputs": [
    {
     "name": "stdout",
     "output_type": "stream",
     "text": [
      "Weighted GM of series x using logarithms is: 18.36\n"
     ]
    }
   ],
   "source": [
    "# Calculate GM if weights are provided\n",
    "# Let us consider the var_geom_x in the earlier example and the following weights\n",
    "\n",
    "wt_geom_x = np.array([20,2,14,10,15,30,6,15]) # Define weights\n",
    "\n",
    "wtd_product_x = sum(np.log(var_geom_x)*wt_geom_x) # Calculate product\n",
    "sum_weights = sum(wt_geom_x) # Sum of weights\n",
    "geomteric_wtd_mean_log_x = round(np.exp((1/sum_weights)*wtd_product_x),2) # Weighted geometric mean rounded to 2 decimal places\n",
    "print(\"Weighted GM of series x using logarithms is: \"+str(geomteric_wtd_mean_log_x))"
   ]
  },
  {
   "cell_type": "markdown",
   "metadata": {},
   "source": [
    "# Calculating Harmonic Mean"
   ]
  },
  {
   "cell_type": "code",
   "execution_count": 5,
   "metadata": {},
   "outputs": [
    {
     "name": "stdout",
     "output_type": "stream",
     "text": [
      "Harmonic Mean of series x: 19.16\n"
     ]
    }
   ],
   "source": [
    "# Calculate Harmonic mean\n",
    "\n",
    "var_hm_x = np.array([10,150,16,25,20,24,20,15]) # Data series\n",
    "N_hm_x = len(var_hm_x) # Count of observations\n",
    "\n",
    "sum_reciprocal_hm_x = sum(1 / var_hm_x) # Sum of reciprocals\n",
    "harmonic_mean_x = round(N_hm_x / sum_reciprocal_hm_x,2) # Reciprocal of arithmetic mean of reciprocals, i.e., harmonic mean\n",
    "print(\"Harmonic Mean of series x: \"+str(harmonic_mean_x)) # Harmonic mean rounded to 2 decimal places\n",
    "\n",
    "# Weighted Harmonic Mean calculation should be easy to code after referring to examples from AM and GM"
   ]
  },
  {
   "cell_type": "markdown",
   "metadata": {},
   "source": [
    "# Demonstrating the Property: A.M. >= G.M. >= H.M."
   ]
  },
  {
   "cell_type": "code",
   "execution_count": 6,
   "metadata": {},
   "outputs": [
    {
     "name": "stdout",
     "output_type": "stream",
     "text": [
      "Arithmetic Mean: 35.0\n",
      "Geometric Mean : 23.28\n",
      "Harmonic Mean  : 19.16\n",
      "Hypothesis of A.M. >= G.M. >= H.M. is: True\n"
     ]
    }
   ],
   "source": [
    "# Can we verify the property of A.M. >= G.M. >= H.M. using the series: 10,150,16,25,20,24,20,15?\n",
    "\n",
    "Series_x = np.array([10,150,16,25,20,24,20,15]) # Data series\n",
    "N_series_x = len(Series_x) # Count of observations\n",
    "\n",
    "AM_Series_x = round(sum(Series_x)/N_series_x,2) # Arithmetic Mean\n",
    "GM_Series_x = round(np.exp(sum(np.log(Series_x))*(1/N_series_x)),2) # Geometric Mean\n",
    "HM_Series_x = round((N_series_x / sum(1/Series_x)),2) # Harmonic Mean\n",
    "\n",
    "print(\"Arithmetic Mean: \"+str(AM_Series_x))\n",
    "print(\"Geometric Mean : \"+str(GM_Series_x))\n",
    "print(\"Harmonic Mean  : \"+str(HM_Series_x))\n",
    "\n",
    "print(\"Hypothesis of A.M. >= G.M. >= H.M. is: \"+ str((AM_Series_x >= GM_Series_x >= HM_Series_x)))"
   ]
  },
  {
   "cell_type": "code",
   "execution_count": 72,
   "metadata": {},
   "outputs": [
    {
     "name": "stdout",
     "output_type": "stream",
     "text": [
      "Geometric Mean (using 'statistics'): 23.28\n",
      "Harmonic Mean  (using 'statistics'): 19.16\n"
     ]
    }
   ],
   "source": [
    "# Ask yourself, is H.M. the least affected by outliers then?\n",
    "# Also, when do you think A.M. = G.M. = H.M.?\n",
    "\n",
    "# Lastly, can we use packages like 'statistics' to calculate geometric and harmonic means? Let us check:\n",
    "GM_Series_x_pkg = round(stats.gmean(Series_x),2) #Available in statistics from version 3.8 onwards\n",
    "HM_Series_x_pkg = round(statistics.harmonic_mean(Series_x),2) #Available in statistics from version 3.6 onwards\n",
    "\n",
    "print(\"Geometric Mean (using 'scipy.stats'): \"+str(GM_Series_x_pkg))\n",
    "print(\"Harmonic Mean  (using 'statistics'): \"+str(HM_Series_x_pkg))"
   ]
  },
  {
   "cell_type": "markdown",
   "metadata": {},
   "source": [
    "# Calculating the Median"
   ]
  },
  {
   "cell_type": "code",
   "execution_count": 21,
   "metadata": {},
   "outputs": [
    {
     "name": "stdout",
     "output_type": "stream",
     "text": [
      "Sorted series is:  [ 10  15  16  20  20  24  25 150]\n",
      "Element at N/2-th position is:  20  and at N/2+1-th position is:  20\n",
      "Median for series x is:  20.0\n"
     ]
    }
   ],
   "source": [
    "# Calculate Median\n",
    "\n",
    "# Consider the same Series_x as above\n",
    "\n",
    "Sorted_Series_x = np.sort(Series_x) # Sort the series\n",
    "\n",
    "print(\"Sorted series is: \", Sorted_Series_x)\n",
    "\n",
    "# Number of observations is even. So the median would be the average of N/2-th and N/2+1-th value\n",
    "\n",
    "N_by_2 = int(len(Sorted_Series_x)/2-1) # Why is the -1 necessary? Think wearing the Pythonista hat!\n",
    "N_by_2_plus_1 = int(len(Sorted_Series_x)/2) # Why don't we add the 1? Wear the Pythonista hat again!\n",
    "\n",
    "Val_1 = Sorted_Series_x[N_by_2] # Get value of the observation at N/2-th position\n",
    "Val_2 = Sorted_Series_x[N_by_2_plus_1] # Get value of the observation at N/2+1-th position\n",
    "\n",
    "print(\"Element at N/2-th position is: \",Val_1, \" and at N/2+1-th position is: \",Val_2)\n",
    "\n",
    "Median_val = (Val_1 + Val_2)/2\n",
    "\n",
    "print(\"Median for series x is: \",Median_val)"
   ]
  },
  {
   "cell_type": "markdown",
   "metadata": {},
   "source": [
    "# Calculating Median from Grouped-Frequency Data"
   ]
  },
  {
   "cell_type": "code",
   "execution_count": 24,
   "metadata": {},
   "outputs": [
    {
     "data": {
      "text/html": [
       "<div>\n",
       "<style scoped>\n",
       "    .dataframe tbody tr th:only-of-type {\n",
       "        vertical-align: middle;\n",
       "    }\n",
       "\n",
       "    .dataframe tbody tr th {\n",
       "        vertical-align: top;\n",
       "    }\n",
       "\n",
       "    .dataframe thead th {\n",
       "        text-align: right;\n",
       "    }\n",
       "</style>\n",
       "<table border=\"1\" class=\"dataframe\">\n",
       "  <thead>\n",
       "    <tr style=\"text-align: right;\">\n",
       "      <th></th>\n",
       "      <th>ID</th>\n",
       "      <th>Weight in Lbs</th>\n",
       "    </tr>\n",
       "  </thead>\n",
       "  <tbody>\n",
       "    <tr>\n",
       "      <td>0</td>\n",
       "      <td>1</td>\n",
       "      <td>132.17</td>\n",
       "    </tr>\n",
       "    <tr>\n",
       "      <td>1</td>\n",
       "      <td>2</td>\n",
       "      <td>130.33</td>\n",
       "    </tr>\n",
       "    <tr>\n",
       "      <td>2</td>\n",
       "      <td>3</td>\n",
       "      <td>125.20</td>\n",
       "    </tr>\n",
       "    <tr>\n",
       "      <td>3</td>\n",
       "      <td>4</td>\n",
       "      <td>130.17</td>\n",
       "    </tr>\n",
       "    <tr>\n",
       "      <td>4</td>\n",
       "      <td>5</td>\n",
       "      <td>135.00</td>\n",
       "    </tr>\n",
       "    <tr>\n",
       "      <td>5</td>\n",
       "      <td>6</td>\n",
       "      <td>129.11</td>\n",
       "    </tr>\n",
       "    <tr>\n",
       "      <td>6</td>\n",
       "      <td>7</td>\n",
       "      <td>137.14</td>\n",
       "    </tr>\n",
       "    <tr>\n",
       "      <td>7</td>\n",
       "      <td>8</td>\n",
       "      <td>130.20</td>\n",
       "    </tr>\n",
       "    <tr>\n",
       "      <td>8</td>\n",
       "      <td>9</td>\n",
       "      <td>128.13</td>\n",
       "    </tr>\n",
       "    <tr>\n",
       "      <td>9</td>\n",
       "      <td>10</td>\n",
       "      <td>120.25</td>\n",
       "    </tr>\n",
       "  </tbody>\n",
       "</table>\n",
       "</div>"
      ],
      "text/plain": [
       "   ID  Weight in Lbs\n",
       "0   1         132.17\n",
       "1   2         130.33\n",
       "2   3         125.20\n",
       "3   4         130.17\n",
       "4   5         135.00\n",
       "5   6         129.11\n",
       "6   7         137.14\n",
       "7   8         130.20\n",
       "8   9         128.13\n",
       "9  10         120.25"
      ]
     },
     "execution_count": 24,
     "metadata": {},
     "output_type": "execute_result"
    }
   ],
   "source": [
    "# Let us consider the median for a continuous series now\n",
    "# We will import the weights_data.csv file that is available on the github repo\n",
    "\n",
    "weights_data = pd.read_csv(\"weights_data.csv\")\n",
    "weights_data.head(10)"
   ]
  },
  {
   "cell_type": "code",
   "execution_count": 36,
   "metadata": {},
   "outputs": [
    {
     "name": "stdout",
     "output_type": "stream",
     "text": [
      "  Weight_Ranges  Frequency  Cumulative_Frequency\n",
      "0    (104, 119]        305                   305\n",
      "1    (119, 127]        552                   857\n",
      "2    (127, 135]        540                  1397\n",
      "3    (135, 144]        472                  1869\n",
      "4    (144, 152]        377                  2246\n",
      "5    (152, 162]        304                  2550\n",
      "6    (162, 170]        250                  2800\n",
      "7    (170, 182]        200                  3000\n"
     ]
    }
   ],
   "source": [
    "# Let us now create the predefined cuts of the data as provided in the article\n",
    "\n",
    "weights_data['binned_weight'] = pd.cut(x=weights_data['Weight in Lbs'], bins=[104,119,127,135,144,152,162,170,182]) \n",
    "\n",
    "# Next create a grouped-frequency table\n",
    "freq_table = weights_data['binned_weight'].value_counts().sort_index().rename_axis('Weight_Ranges').reset_index(name='Frequency')\n",
    "freq_table['Cumulative_Frequency'] = freq_table['Frequency'].cumsum()\n",
    "print(freq_table)"
   ]
  },
  {
   "attachments": {
    "Capture_Median_Formula.JPG": {
     "image/jpeg": "[encoded data removed]"
    }
   },
   "cell_type": "markdown",
   "metadata": {},
   "source": [
    "The above frequency table gives you the easy view of the median class, class prior to median class and respective cumulative frequencies. So, it becomes easier to apply the formula explained in the article:\n",
    "\n",
    "We need to substitute the values in the formula:\n",
    "\n",
    "![Capture_Median_Formula.JPG](attachment:Capture_Median_Formula.JPG)"
   ]
  },
  {
   "cell_type": "code",
   "execution_count": 43,
   "metadata": {},
   "outputs": [
    {
     "name": "stdout",
     "output_type": "stream",
     "text": [
      "Median weight from the data on 3,000 people is:  137\n"
     ]
    }
   ],
   "source": [
    "Median_weight = round(135 + (((3000/2) - 1397)/472)*(144-135)) # Median rounded to 0 decimal places\n",
    "print(\"Median weight from the data on 3,000 people is: \", Median_weight)"
   ]
  },
  {
   "cell_type": "code",
   "execution_count": 73,
   "metadata": {},
   "outputs": [
    {
     "ename": "AttributeError",
     "evalue": "module 'scipy.stats' has no attribute 'median'",
     "output_type": "error",
     "traceback": [
      "\u001b[1;31m---------------------------------------------------------------------------\u001b[0m",
      "\u001b[1;31mAttributeError\u001b[0m                            Traceback (most recent call last)",
      "\u001b[1;32m<ipython-input-73-09cb81fb4ab2>\u001b[0m in \u001b[0;36m<module>\u001b[1;34m\u001b[0m\n\u001b[0;32m      1\u001b[0m \u001b[1;31m# After the hard way, comes the easier method using \"statistics\" package:\u001b[0m\u001b[1;33m\u001b[0m\u001b[1;33m\u001b[0m\u001b[1;33m\u001b[0m\u001b[0m\n\u001b[0;32m      2\u001b[0m \u001b[1;33m\u001b[0m\u001b[0m\n\u001b[1;32m----> 3\u001b[1;33m \u001b[0mMedian_weight_scipy\u001b[0m \u001b[1;33m=\u001b[0m \u001b[0mround\u001b[0m\u001b[1;33m(\u001b[0m\u001b[0mstats\u001b[0m\u001b[1;33m.\u001b[0m\u001b[0mmedian\u001b[0m\u001b[1;33m(\u001b[0m\u001b[0mweights_data\u001b[0m\u001b[1;33m[\u001b[0m\u001b[1;34m'Weight in Lbs'\u001b[0m\u001b[1;33m]\u001b[0m\u001b[1;33m)\u001b[0m\u001b[1;33m,\u001b[0m\u001b[1;36m2\u001b[0m\u001b[1;33m)\u001b[0m\u001b[1;33m\u001b[0m\u001b[1;33m\u001b[0m\u001b[0m\n\u001b[0m\u001b[0;32m      4\u001b[0m \u001b[0mprint\u001b[0m\u001b[1;33m(\u001b[0m\u001b[1;34m\"Median weight from the data on 3,000 people (using statistics package) is: \"\u001b[0m\u001b[1;33m,\u001b[0m\u001b[0mMedian_weight_scipy\u001b[0m\u001b[1;33m)\u001b[0m\u001b[1;33m\u001b[0m\u001b[1;33m\u001b[0m\u001b[0m\n",
      "\u001b[1;31mAttributeError\u001b[0m: module 'scipy.stats' has no attribute 'median'"
     ]
    }
   ],
   "source": [
    "# After the hard way, comes the easier method using \"statistics\" package:\n",
    "\n",
    "Median_weight_scipy = round(statistics.median(weights_data['Weight in Lbs']))\n",
    "print(\"Median weight from the data on 3,000 people (using statistics package) is: \",Median_weight_scipy)"
   ]
  },
  {
   "cell_type": "code",
   "execution_count": null,
   "metadata": {},
   "outputs": [],
   "source": [
    "# Notice that the rounded values are exactly same, but there will be differences by a few decimal places"
   ]
  },
  {
   "cell_type": "markdown",
   "metadata": {},
   "source": [
    "# Calculating Mode"
   ]
  },
  {
   "cell_type": "code",
   "execution_count": 59,
   "metadata": {},
   "outputs": [
    {
     "name": "stdout",
     "output_type": "stream",
     "text": [
      "   Y_value  Frequency\n",
      "0        5          4\n",
      "1        6          3\n",
      "2        7          5\n",
      "3        8          3\n",
      "4       10          4\n",
      "Mode of Y is:  7\n"
     ]
    }
   ],
   "source": [
    "# Let us consider a new series of data Y:\n",
    "\n",
    "array_y = np.array([5, 8, 6, 8, 7, 8, 6, 5, 6, 5, 5, 10, 7, 7, 7, 10, 10, 7, 10])\n",
    "Series_y = pd.Series(array_y)\n",
    "\n",
    "freq_table=Series_y.value_counts().sort_index().rename_axis('Y_value').reset_index(name='Frequency')\n",
    "\n",
    "print(freq_table)\n",
    "\n",
    "# Find the mode from the frequency table:\n",
    "\n",
    "Mode_Y = freq_table.loc[freq_table['Frequency']==max(freq_table['Frequency']),'Y_value'].iloc[0]\n",
    "print(\"Mode of Y is: \", Mode_Y)"
   ]
  },
  {
   "cell_type": "markdown",
   "metadata": {},
   "source": [
    "For grouped frequency, the same process as median calculation can be followed and replace the Median calculation formula with that of the Mode as explained in the article. In the below cell, look at a much simpler way of calculating mode using the statistics package:"
   ]
  },
  {
   "cell_type": "code",
   "execution_count": 60,
   "metadata": {},
   "outputs": [
    {
     "name": "stdout",
     "output_type": "stream",
     "text": [
      "Mode of Y using statistics package is:  7\n"
     ]
    }
   ],
   "source": [
    "# Mode using 'Statistics' package\n",
    "\n",
    "Mode_Y_pkg = statistics.mode(Series_y) # Use mode function in statistics package\n",
    "print(\"Mode of Y using statistics package is: \", Mode_Y_pkg)"
   ]
  }
 ],
 "metadata": {
  "kernelspec": {
   "display_name": "Python 3",
   "language": "python",
   "name": "python3"
  },
  "language_info": {
   "codemirror_mode": {
    "name": "ipython",
    "version": 3
   },
   "file_extension": ".py",
   "mimetype": "text/x-python",
   "name": "python",
   "nbconvert_exporter": "python",
   "pygments_lexer": "ipython3",
   "version": "3.7.4"
  }
 },
 "nbformat": 4,
 "nbformat_minor": 2
}
