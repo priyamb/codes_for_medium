{
 "cells": [
  {
   "cell_type": "markdown",
   "metadata": {},
   "source": [
    "# Using Python 3.7.4 to calculate Dispersion"
   ]
  },
  {
   "cell_type": "code",
   "execution_count": null,
   "metadata": {},
   "outputs": [],
   "source": [
    "# Import some required libraries\n",
    "import numpy as np\n",
    "from scipy import stats\n",
    "import statistics\n",
    "import pandas as pd"
   ]
  },
  {
   "cell_type": "markdown",
   "metadata": {},
   "source": [
    "# Define the Data"
   ]
  },
  {
   "cell_type": "code",
   "execution_count": null,
   "metadata": {},
   "outputs": [],
   "source": [
    "# Let us consider a simple series:\n",
    "Series_X = np.array([366, 93, 694, 655, 530, 728, 456, 413, 298, 676, 478, 462, 553, 89, 194, 257, 589, 526, 552, 647, \n",
    "                     468, 218, 537, 505, 104, 82, 491, 474, 720, 594, 138, 127, 404, 142, 480, 523, 188, 514, 645, 281, \n",
    "                     187, 447, 128, 181, 501, 298, 756, 765, 450, 711, 663, 63, 628, 105, 430, 532, 737, 669, 773, 727, \n",
    "                     234, 126, 76, 538, 127, 100, 653, 785, 507, 324, 205, 741, 61, 299, 443, 275, 106, 770, 566, 325, \n",
    "                     305, 330, 345, 424, 333, 227, 102, 207, 489, 211, 648, 396, 428, 512, 591, 263, 167, 253, 214, 530, \n",
    "                     581, 753, 445, 169, 302, 518, 694, 548, 716, 365, 535, 734, 102, 762, 351, 393, 222, 506, 123, 402, \n",
    "                     355, 644, 170, 131, 373, 456, 754, 621])\n",
    "df = pd.Series(Series_X)\n",
    "df.columns = ['Series_X']"
   ]
  },
  {
   "cell_type": "code",
   "execution_count": null,
   "metadata": {},
   "outputs": [],
   "source": [
    "# A simple describe can provide most of the basic statistics of Central Tendency and Dispersion\n",
    "df.describe()"
   ]
  },
  {
   "cell_type": "markdown",
   "metadata": {},
   "source": [
    "# Range"
   ]
  },
  {
   "cell_type": "code",
   "execution_count": null,
   "metadata": {},
   "outputs": [],
   "source": [
    "# Calculate the range, the easiest measure:\n",
    "\n",
    "max_val = df.describe()['max']\n",
    "min_val = df.describe()['min']\n",
    "Range_val = max_val - min_val\n",
    "print(\"Minimum of Series_X = \",min_val,\"\\nMaximum of Series_X = \",max_val,\"\\nHence, Range of Series_X= \",Range_val)"
   ]
  },
  {
   "cell_type": "markdown",
   "metadata": {},
   "source": [
    "# Quartile Deviation"
   ]
  },
  {
   "cell_type": "code",
   "execution_count": null,
   "metadata": {},
   "outputs": [],
   "source": [
    "# Calculate quartile deviation:\n",
    "\n",
    "Q3 = df.describe()['75%']\n",
    "Q1 = df.describe()['25%']\n",
    "\n",
    "InterQuartile_Range = (Q3 - Q1)\n",
    "Quartile_Deviation  = InterQuartile_Range/2\n",
    "\n",
    "print(\"3rd Quartile of Series_X = \",Q3,\"\\n1st Quartile of Series_X = \",Q1,\n",
    "      \"\\nHence, InterQuartile Range of Series_X= Q3-Q1 = \",InterQuartile_Range,\n",
    "      \"\\nAnd Quartile Deviation = (Q3-Q1)/2= \",Quartile_Deviation)"
   ]
  },
  {
   "cell_type": "markdown",
   "metadata": {},
   "source": [
    "# Mean Absolute Deviation (from Mean)"
   ]
  },
  {
   "cell_type": "code",
   "execution_count": null,
   "metadata": {},
   "outputs": [],
   "source": [
    "# Calculate mean absolute deviation about mean:\n",
    "\n",
    "Mean_Series_X = df.describe()['mean']\n",
    "\n",
    "Deviation_from_Mean = df.sub(Mean_Series_X,axis=0)\n",
    "Absolute_Deviation_from_Mean = abs(Deviation_from_Mean)\n",
    "\n",
    "Mean_Absolute_Deviation_from_Mean = sum(Absolute_Deviation_from_Mean)/df.describe()['count']\n",
    "\n",
    "print(\"Mean of Series_X = \",round(Mean_Series_X,2),\n",
    "      \"\\nMean Absolute Deviation from Mean for Series_X = \",round(Mean_Absolute_Deviation_from_Mean,2))"
   ]
  },
  {
   "cell_type": "markdown",
   "metadata": {},
   "source": [
    "# Standard Deviation and Variance"
   ]
  },
  {
   "cell_type": "code",
   "execution_count": null,
   "metadata": {},
   "outputs": [],
   "source": [
    "# Calculate Standard deviation:\n",
    "\n",
    "Deviation_from_Mean_Squared = Deviation_from_Mean**2\n",
    "Std_Deviation = (sum(Deviation_from_Mean_Squared)/df.describe()['count'])**(1/2)\n",
    "\n",
    "print(\"Mean of Series_X = \",round(Mean_Series_X,2),\n",
    "      \"\\nStandard Deviation for Series_X = \",round(Std_Deviation,2))"
   ]
  },
  {
   "cell_type": "markdown",
   "metadata": {},
   "source": [
    "Note that the Standard Deviation calculated by our formula is slightly different than what is provided by the \"Describe\" function in Pandas. What is the reason for this? The difference is we are dividing the sum(Deviation_from_Mean_Squared) by the total number of observations in Series_X, i.e., 128 whereas the internal formula in describe function divides by 1 less, i.e., 127. What is the reason for this? We consider that Series_X is our total population whereas major tools consider the data provided as a sample. When we calculate the SD for a sample, we use N-1. This is called Bessel's correction which approximately corrects the bias that is created when the population SD formula is applied on the sample population. In this case, since we consider Series_X is our full population, we are safe dividing by the population count. However, if we selected a random sample of 50 observations out of the 128 observations, we would divide by 49 instead of 50 in that case."
   ]
  },
  {
   "cell_type": "code",
   "execution_count": null,
   "metadata": {},
   "outputs": [],
   "source": [
    "# Calculate Variance:\n",
    "\n",
    "Variance_val = Std_Deviation**2\n",
    "\n",
    "print(\"Variance for Series_X = \",round(Variance_val,2))"
   ]
  }
 ],
 "metadata": {
  "kernelspec": {
   "display_name": "Python 3",
   "language": "python",
   "name": "python3"
  },
  "language_info": {
   "codemirror_mode": {
    "name": "ipython",
    "version": 3
   },
   "file_extension": ".py",
   "mimetype": "text/x-python",
   "name": "python",
   "nbconvert_exporter": "python",
   "pygments_lexer": "ipython3",
   "version": "3.7.4"
  }
 },
 "nbformat": 4,
 "nbformat_minor": 2
}
